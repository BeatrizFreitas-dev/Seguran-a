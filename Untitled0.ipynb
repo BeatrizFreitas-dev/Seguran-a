{
  "nbformat": 4,
  "nbformat_minor": 0,
  "metadata": {
    "colab": {
      "provenance": [],
      "toc_visible": true,
      "include_colab_link": true
    },
    "kernelspec": {
      "name": "python3",
      "display_name": "Python 3"
    },
    "language_info": {
      "name": "python"
    }
  },
  "cells": [
    {
      "cell_type": "markdown",
      "metadata": {
        "id": "view-in-github",
        "colab_type": "text"
      },
      "source": [
        "<a href=\"https://colab.research.google.com/github/BeatrizFreitas-dev/Seguran-a/blob/main/Untitled0.ipynb\" target=\"_parent\"><img src=\"https://colab.research.google.com/assets/colab-badge.svg\" alt=\"Open In Colab\"/></a>"
      ]
    },
    {
      "cell_type": "code",
      "execution_count": null,
      "metadata": {
        "colab": {
          "base_uri": "https://localhost:8080/"
        },
        "id": "ZTYx7tdDP-_C",
        "outputId": "9d8bcb3f-af2f-4268-e7d3-b6b454b17789"
      },
      "outputs": [
        {
          "output_type": "stream",
          "name": "stdout",
          "text": [
            "\n",
            "Gerador de Senhas\n",
            "1.Senha com letras, números e símbolos\n",
            "2. Senha com letras e números\n",
            "3. Senha com letras e símbolos\n",
            "4. Sair\n",
            "Escolha uma opção: 1\n",
            "Digite o tamanho da senha: 5\n",
            "Senha gerada: @Vq04\n",
            "\n",
            "Gerador de Senhas\n",
            "1.Senha com letras, números e símbolos\n",
            "2. Senha com letras e números\n",
            "3. Senha com letras e símbolos\n",
            "4. Sair\n",
            "Escolha uma opção: 2\n",
            "Digite o tamanho da senha: 3\n",
            "Senha gerada: OeH\n",
            "\n",
            "Gerador de Senhas\n",
            "1.Senha com letras, números e símbolos\n",
            "2. Senha com letras e números\n",
            "3. Senha com letras e símbolos\n",
            "4. Sair\n",
            "Escolha uma opção: 3\n",
            "Digite o tamanho da senha: 10\n",
            "Senha gerada: XFSVWYiZ>t\n",
            "\n",
            "Gerador de Senhas\n",
            "1.Senha com letras, números e símbolos\n",
            "2. Senha com letras e números\n",
            "3. Senha com letras e símbolos\n",
            "4. Sair\n",
            "Escolha uma opção: 4\n",
            "Saindo...\n"
          ]
        }
      ],
      "source": [
        "# @title Importando Bibliotecas - Gerador de senhas\n",
        "import random\n",
        "import string\n",
        "\n",
        "# Opções interativas\n",
        "def gerar_senha(tamanho, incluir_numeros=True, incluir_simbolos=True):\n",
        "  caracteres_base = string.ascii_letters\n",
        "\n",
        "  if incluir_numeros:\n",
        "    caracteres_base += string.digits\n",
        "  if incluir_simbolos:\n",
        "    caracteres_base += string.punctuation\n",
        "\n",
        "  senha = ''.join(random.choice(caracteres_base) for _ in range(tamanho))\n",
        "  return senha\n",
        "\n",
        "while True:\n",
        "  print(\"\\nGerador de Senhas\")\n",
        "  print(\"1.Senha com letras, números e símbolos\")\n",
        "  print(\"2. Senha com letras e números\")\n",
        "  print(\"3. Senha com letras e símbolos\")\n",
        "  print(\"4. Sair\")\n",
        "\n",
        "  opcao = input(\"Escolha uma opção: \")\n",
        "\n",
        "  if opcao == '1':\n",
        "   tamanho = int(input(\"Digite o tamanho da senha: \"))\n",
        "   senha = gerar_senha(tamanho)\n",
        "   print(f\"Senha gerada: {senha}\")\n",
        "\n",
        "  elif opcao == '2':\n",
        "   tamanho = int(input(\"Digite o tamanho da senha: \"))\n",
        "   senha = gerar_senha(tamanho, incluir_simbolos=False)\n",
        "   print(f\"Senha gerada: {senha}\")\n",
        "\n",
        "  elif opcao == '3':\n",
        "    tamanho = int(input(\"Digite o tamanho da senha: \"))\n",
        "    senha = gerar_senha(tamanho, incluir_numeros=False)\n",
        "    print(f\"Senha gerada: {senha}\")\n",
        "\n",
        "  elif opcao == '4':\n",
        "    print(\"Saindo...\")\n",
        "    break\n",
        "\n",
        "  else:\n",
        "    print(\"Opção inválida. Tente novamente.\")\n"
      ]
    },
    {
      "cell_type": "code",
      "source": [
        "\n"
      ],
      "metadata": {
        "id": "sfM1qUSgXR6O"
      },
      "execution_count": null,
      "outputs": []
    }
  ]
}